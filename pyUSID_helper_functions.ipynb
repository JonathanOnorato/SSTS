{
 "cells": [
  {
   "cell_type": "code",
   "execution_count": null,
   "metadata": {},
   "outputs": [],
   "source": [
    "import os\n",
    "import zipfile\n",
    "import math\n",
    "\n",
    "import numpy as np\n",
    "import pyUSID as px\n",
    "import h5py\n",
    "import matplotlib.pyplot as plt\n",
    "%matplotlib inline"
   ]
  },
  {
   "cell_type": "code",
   "execution_count": null,
   "metadata": {},
   "outputs": [],
   "source": [
    "def bruker_to_hdf5():\n",
    "    \n",
    "    return"
   ]
  },
  {
   "cell_type": "code",
   "execution_count": null,
   "metadata": {},
   "outputs": [],
   "source": [
    "def igor_to_hdf5():\n",
    "    \n",
    "    return"
   ]
  },
  {
   "cell_type": "code",
   "execution_count": null,
   "metadata": {},
   "outputs": [],
   "source": [
    "def txt_to_hdf5():\n",
    "    \n",
    "    return"
   ]
  },
  {
   "cell_type": "code",
   "execution_count": null,
   "metadata": {},
   "outputs": [],
   "source": [
    "def gwyddion_to_hdf5():\n",
    "    \n",
    "    return"
   ]
  },
  {
   "cell_type": "code",
   "execution_count": null,
   "metadata": {},
   "outputs": [],
   "source": [
    "def mk_h5_file(path):\n",
    "\n",
    "    h5_fl = h5py.File(path, mode = 'r')\n",
    "    \n",
    "    return h5_fl"
   ]
  },
  {
   "cell_type": "code",
   "execution_count": null,
   "metadata": {},
   "outputs": [],
   "source": [
    "def mk_USID_file(path):\n",
    "    \n",
    "    h5_fl = mkh5file(path)\n",
    "    \n",
    "    used_file = px.USIDataset(h5_fl)\n",
    "    \n",
    "    return usid_file"
   ]
  },
  {
   "cell_type": "code",
   "execution_count": null,
   "metadata": {},
   "outputs": [],
   "source": [
    "def plot_single_channel(hdf5_channel, title):\n",
    "    # Takes: HDF5 channel and a title (as a string) then plots that data channel\n",
    "    # returns: fig, axes for the plotted channel in question\n",
    "    \n",
    "    df = np.array(hdf5_channel)\n",
    "    oldx, oldy = df.shape\n",
    "    x = y = int(math.sqrt(oldx))\n",
    "    df = df.reshape(x, y)\n",
    "    \n",
    "    fig, axes = plt.subplots(ncols = 1, figsize = (6, 6))\n",
    "    px.plot_utils.plot_map(axes, df, show_xy_ticks = False, show_cbar = False)\n",
    "    axes.set_title(title)\n",
    "    \n",
    "    return fig, axes"
   ]
  },
  {
   "cell_type": "code",
   "execution_count": null,
   "metadata": {},
   "outputs": [],
   "source": [
    "def plot_all_channels(hdf5_measurement_group, num_cols = 2):\n",
    "    # This function takes in a HDF5 measurement group of spectra, identifies all main datasets, and plots them in a\n",
    "    # n x m grid. Default column setting is 2. Returns fig and axes of the subplot group\n",
    "    \n",
    "    measurement_group = px.hdf_utils.get_all_main(test_meas_grp)\n",
    "    num_channels = len(measurement_group)\n",
    "    num_rows = 1\n",
    "    title = ''\n",
    "    channel_iterator = 0\n",
    "\n",
    "    if num_channels%num_cols == 0:\n",
    "        num_rows = int(num_channels / num_cols)\n",
    "    else:\n",
    "        num_rows = int(math.floor((num_channels / 2) + 1))\n",
    "\n",
    "    fig, axes = plt.subplots(num_rows, num_cols, figsize = (10, (num_rows * 5)))\n",
    "\n",
    "    for ax in axes.flat:\n",
    "        channel = np.array(measurement_group[channel_iterator])\n",
    "\n",
    "        oldx, oldy = channel.shape\n",
    "        x = y = int(math.sqrt(oldx))\n",
    "        channel = channel.reshape(x, y)\n",
    "\n",
    "        title = px.hdf_utils.get_attr(measurement_group[channel_iterator], 'quantity')\n",
    "        title1 = title.split('\"')[1]\n",
    "        ax.matshow(channel)\n",
    "        ax.set_title(title1)\n",
    "        channel_iterator += 1\n",
    "\n",
    "    plt.tight_layout()\n",
    "\n",
    "    return fig, axes"
   ]
  },
  {
   "cell_type": "code",
   "execution_count": null,
   "metadata": {},
   "outputs": [],
   "source": [
    "def save_single_scan():\n",
    "    \n",
    "    return"
   ]
  },
  {
   "cell_type": "code",
   "execution_count": null,
   "metadata": {},
   "outputs": [],
   "source": [
    "def save_all_scans():\n",
    "    \n",
    "    return"
   ]
  },
  {
   "cell_type": "code",
   "execution_count": null,
   "metadata": {},
   "outputs": [],
   "source": []
  }
 ],
 "metadata": {
  "kernelspec": {
   "display_name": "Python 3",
   "language": "python",
   "name": "python3"
  },
  "language_info": {
   "codemirror_mode": {
    "name": "ipython",
    "version": 3
   },
   "file_extension": ".py",
   "mimetype": "text/x-python",
   "name": "python",
   "nbconvert_exporter": "python",
   "pygments_lexer": "ipython3",
   "version": "3.6.3"
  }
 },
 "nbformat": 4,
 "nbformat_minor": 2
}
