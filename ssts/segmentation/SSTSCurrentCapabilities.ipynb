{
 "cells": [
  {
   "cell_type": "code",
   "execution_count": null,
   "metadata": {},
   "outputs": [],
   "source": [
    "%load_ext autoreload\n",
    "%autoreload 2\n",
    "\n",
    "import numpy as np\n",
    "import segmentation_gmm as seg_gmm\n",
    "import segmentation_watershed as seg_water\n",
    "from methods import main_methods as mm\n"
   ]
  },
  {
   "cell_type": "code",
   "execution_count": null,
   "metadata": {},
   "outputs": [],
   "source": [
    "# 2 component data\n",
    "data_file = \"/Users/diegotorrejon/Projects/Other/SSTS/data/2componentfilms/combined/PTB7PC71BM_CBonly_ascast_fresh_500_nm_combined.npy\"\n",
    "\n",
    "# nanowires data\n",
    "#data_file = \"/Users/diegotorrejon/Projects/Other/SSTS/data/nanowires/combined/100-0_48_NW_combined.npy\"\n",
    "\n",
    "data_type = data_file.split(\"/\")[-3]\n",
    "data = np.load(data_file)\n"
   ]
  },
  {
   "cell_type": "code",
   "execution_count": null,
   "metadata": {
    "scrolled": false
   },
   "outputs": [],
   "source": [
    "# NOTE: I picked backgrounded because it has the most data files\n",
    "data_dir = \"/Users/diegotorrejon/Dropbox/SSTS_files/AFM/QNM/Backgrounded/Combined/\"\n",
    "mm.show_correlations(data.shape[2], data_dir)\n"
   ]
  },
  {
   "cell_type": "code",
   "execution_count": null,
   "metadata": {},
   "outputs": [],
   "source": [
    "# Apply high pass filter\n",
    "data = mm.apply_frequency_removal(data)\n"
   ]
  },
  {
   "cell_type": "code",
   "execution_count": null,
   "metadata": {},
   "outputs": [],
   "source": [
    "# Get (z-score) outliers\n",
    "outliers = mm.extract_outliers(data)\n",
    "mm.show_outliers(data, outliers)\n",
    "\n",
    "no_outliers_data = np.copy(data)\n",
    "no_outliers_data[outliers == 1] = 0\n"
   ]
  },
  {
   "cell_type": "code",
   "execution_count": null,
   "metadata": {},
   "outputs": [],
   "source": [
    "# Show a-priori property distributions\n",
    "mm.show_property_distributions(data, outliers)\n"
   ]
  },
  {
   "cell_type": "code",
   "execution_count": null,
   "metadata": {},
   "outputs": [],
   "source": [
    "# Apply semantic segmentation (GMM)\n",
    "num_pca_components = 4\n",
    "seg = seg_gmm.SegmenterGMM(n_components=2, embedding_dim=num_pca_components,\n",
    "                           nonlinear=True, normalize=True,\n",
    "                          padding=0, zscale=False)\n",
    "pre_labels = seg.fit_transform(data, outliers)\n"
   ]
  },
  {
   "cell_type": "code",
   "execution_count": null,
   "metadata": {},
   "outputs": [],
   "source": [
    "# Semantic segmentation of properties\n",
    "mm.show_classification(pre_labels, no_outliers_data)\n"
   ]
  },
  {
   "cell_type": "code",
   "execution_count": null,
   "metadata": {},
   "outputs": [],
   "source": [
    "# Semantic segmentation likelihood of properties\n",
    "probs = seg.get_probabilities(data)\n",
    "mm.show_overlaid_distribution(probs, no_outliers_data)\n"
   ]
  },
  {
   "cell_type": "code",
   "execution_count": null,
   "metadata": {},
   "outputs": [],
   "source": [
    "# Distributions of properties after semantic segmentation\n",
    "mm.show_classification_distributions(pre_labels, no_outliers_data)\n"
   ]
  },
  {
   "cell_type": "code",
   "execution_count": null,
   "metadata": {},
   "outputs": [],
   "source": [
    "# Scatter plot and correlation of properties after semantic segmentation\n",
    "mm.show_classification_correlation(pre_labels, no_outliers_data)\n"
   ]
  },
  {
   "cell_type": "code",
   "execution_count": null,
   "metadata": {},
   "outputs": [],
   "source": [
    "# Distributions of PCA components after semantic segmentation\n",
    "h, w, c = data.shape\n",
    "pca_components = seg.get_pca_components(data)\n",
    "pca_components = pca_components.reshape(h, w, num_pca_components)\n",
    "\n",
    "mm.show_classification_distributions(pre_labels, pca_components, title_flag=False)\n"
   ]
  },
  {
   "cell_type": "code",
   "execution_count": null,
   "metadata": {},
   "outputs": [],
   "source": [
    "# Scatter plot and correlation of PCA components after semantic segmentation\n",
    "mm.show_classification_correlation(pre_labels, pca_components, title_flag=False)\n"
   ]
  },
  {
   "cell_type": "code",
   "execution_count": null,
   "metadata": {},
   "outputs": [],
   "source": [
    "# Apply instance segmentation (connected components)\n",
    "post_labels = seg.get_grains(pre_labels)\n"
   ]
  },
  {
   "cell_type": "code",
   "execution_count": null,
   "metadata": {},
   "outputs": [],
   "source": [
    "# Instance (grains) segmentation of properties\n",
    "mm.show_classification(post_labels, no_outliers_data)\n"
   ]
  },
  {
   "cell_type": "code",
   "execution_count": null,
   "metadata": {},
   "outputs": [],
   "source": [
    "# Show grain area distribution after instance segmentation\n",
    "mm.show_grain_area_distribution(post_labels, data_type)\n"
   ]
  },
  {
   "cell_type": "code",
   "execution_count": null,
   "metadata": {},
   "outputs": [],
   "source": [
    "# Distributions of grains after instance segmentation\n",
    "mm.show_distributions_together(post_labels, no_outliers_data)\n"
   ]
  },
  {
   "cell_type": "code",
   "execution_count": null,
   "metadata": {},
   "outputs": [],
   "source": [
    "# Apply instance segmentation (persistence watershed)\n",
    "seg = seg_water.SegmenterWatershed()\n",
    "height_data = data[:, :, 4]\n",
    "labels = seg.fit_transform(height_data, outliers, 0.4)\n"
   ]
  },
  {
   "cell_type": "code",
   "execution_count": null,
   "metadata": {},
   "outputs": [],
   "source": [
    "# Instance (grains) segmentation of properties\n",
    "mm.show_classification(labels, data)\n"
   ]
  },
  {
   "cell_type": "code",
   "execution_count": null,
   "metadata": {},
   "outputs": [],
   "source": [
    "# Show grain area distribution after instance segmentation\n",
    "mm.show_grain_area_distribution(labels, data_type)"
   ]
  },
  {
   "cell_type": "code",
   "execution_count": null,
   "metadata": {},
   "outputs": [],
   "source": [
    "# Distributions of grains after instance segmentation\n",
    "mm.show_classification_distributions(labels, data)\n"
   ]
  }
 ],
 "metadata": {
  "kernelspec": {
   "display_name": "Python 3",
   "language": "python",
   "name": "python3"
  },
  "language_info": {
   "codemirror_mode": {
    "name": "ipython",
    "version": 3
   },
   "file_extension": ".py",
   "mimetype": "text/x-python",
   "name": "python",
   "nbconvert_exporter": "python",
   "pygments_lexer": "ipython3",
   "version": "3.6.4"
  }
 },
 "nbformat": 4,
 "nbformat_minor": 2
}
